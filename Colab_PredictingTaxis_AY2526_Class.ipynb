{
 "cells": [
  {
   "cell_type": "markdown",
   "id": "QD0htI1b754f",
   "metadata": {
    "id": "QD0htI1b754f"
   },
   "source": [
    "If using Google Colab: <br>\n",
    "Recap: Instructions for connecting to Google Drive here: https://medium.com/@wl8380/how-to-mount-google-drive-in-google-colab-c688ec8eccb7"
   ]
  },
  {
   "cell_type": "markdown",
   "id": "ecfeT0tr4mCe",
   "metadata": {
    "id": "ecfeT0tr4mCe"
   },
   "source": [
    "Right Click on Files on the left, Add New Folder and Upload files to the drive."
   ]
  },
  {
   "cell_type": "code",
   "execution_count": null,
   "id": "UTOVkKWFwBhv",
   "metadata": {
    "colab": {
     "base_uri": "https://localhost:8080/"
    },
    "id": "UTOVkKWFwBhv",
    "outputId": "c1fdd0b7-640a-404a-ef73-0c8e2576f57c"
   },
   "outputs": [],
   "source": [
    "#from google.colab import drive\n",
    "#drive.mount('/content/drive')"
   ]
  },
  {
   "cell_type": "markdown",
   "id": "ad4a75a0-d64e-4970-9f5b-83d72005cbb4",
   "metadata": {},
   "source": [
    "### Read here:\n",
    "\n",
    "Geopandas: https://geopandas.org/en/stable/getting_started/introduction.html <br>\n",
    "Shapely: Manipulation and Analysis of Planar Geometric Objects https://shapely.readthedocs.io/en/stable/"
   ]
  },
  {
   "cell_type": "code",
   "execution_count": null,
   "id": "87b1c46f-7bcb-4743-adfa-dbef7d6863c2",
   "metadata": {},
   "outputs": [],
   "source": [
    "# install whatever you need"
   ]
  },
  {
   "cell_type": "code",
   "execution_count": null,
   "id": "5902c5a9-09f0-43ee-b921-0aa477ee64fe",
   "metadata": {
    "id": "5902c5a9-09f0-43ee-b921-0aa477ee64fe"
   },
   "outputs": [],
   "source": [
    "import pandas as pd\n",
    "import geopandas as gpd\n",
    "\n",
    "from shapely.geometry import Point\n",
    "\n",
    "from sklearn.model_selection import train_test_split\n",
    "from sklearn.ensemble import RandomForestRegressor\n",
    "from sklearn.metrics import mean_squared_error, mean_absolute_error, r2_score\n",
    "\n",
    "import matplotlib.pyplot as plt"
   ]
  },
  {
   "cell_type": "markdown",
   "id": "b54d1307-b2a3-4a0c-9a26-f387061a143d",
   "metadata": {
    "id": "b54d1307-b2a3-4a0c-9a26-f387061a143d"
   },
   "source": [
    "#### Data Exploration"
   ]
  },
  {
   "cell_type": "markdown",
   "id": "5aa7c0ce-65fa-444b-94e7-d02e2736c85b",
   "metadata": {
    "id": "5aa7c0ce-65fa-444b-94e7-d02e2736c85b"
   },
   "source": [
    "Data downloaded from here: https://www.nyc.gov/site/tlc/about/tlc-trip-record-data.page"
   ]
  },
  {
   "cell_type": "code",
   "execution_count": null,
   "id": "OX9TKy4OxAEi",
   "metadata": {
    "id": "OX9TKy4OxAEi"
   },
   "outputs": [],
   "source": [
    "file_path = 'yellow_tripdata_2024-01.parquet'"
   ]
  },
  {
   "cell_type": "code",
   "execution_count": null,
   "id": "a513b152-b88b-4dd9-8e3c-878d82ba48a1",
   "metadata": {
    "id": "a513b152-b88b-4dd9-8e3c-878d82ba48a1"
   },
   "outputs": [],
   "source": [
    "df ="
   ]
  },
  {
   "cell_type": "code",
   "execution_count": null,
   "id": "28c4511e-9f2e-4119-8695-05dd812406de",
   "metadata": {
    "colab": {
     "base_uri": "https://localhost:8080/"
    },
    "id": "28c4511e-9f2e-4119-8695-05dd812406de",
    "outputId": "f3477aa5-e2e4-4157-8385-d444848a26b9"
   },
   "outputs": [],
   "source": [
    "df.info()"
   ]
  },
  {
   "cell_type": "markdown",
   "id": "b17fac1d-fb6e-4974-b0cb-b0ed3f2f51ba",
   "metadata": {},
   "source": [
    "Already in datetime format"
   ]
  },
  {
   "cell_type": "code",
   "execution_count": null,
   "id": "8ac97099-3fae-4afd-8cb9-6fea654c66f4",
   "metadata": {
    "colab": {
     "base_uri": "https://localhost:8080/",
     "height": 226
    },
    "id": "8ac97099-3fae-4afd-8cb9-6fea654c66f4",
    "outputId": "abddcd94-4dd2-4f33-fc3b-80fe652c7247"
   },
   "outputs": [],
   "source": [
    "df.head()"
   ]
  },
  {
   "cell_type": "markdown",
   "id": "41e416e7-5791-469a-a128-ed29e4cf6467",
   "metadata": {
    "id": "41e416e7-5791-469a-a128-ed29e4cf6467"
   },
   "source": [
    "## Goal: Predicting number of taxi pickups in a given location"
   ]
  },
  {
   "cell_type": "markdown",
   "id": "25319efc-7552-46e6-9bbd-05bf639ba93b",
   "metadata": {
    "id": "25319efc-7552-46e6-9bbd-05bf639ba93b"
   },
   "source": [
    "Spatial-temporal prediction (geographical and time-based factors)"
   ]
  },
  {
   "cell_type": "markdown",
   "id": "c25d4ae2-fd32-47b7-842c-5566abdb9c5e",
   "metadata": {
    "id": "c25d4ae2-fd32-47b7-842c-5566abdb9c5e"
   },
   "source": [
    "#### Feature Engineering: Features that contribute to your model"
   ]
  },
  {
   "cell_type": "markdown",
   "id": "a25a6daf-43f3-4534-9a37-d34dff4afed3",
   "metadata": {
    "id": "a25a6daf-43f3-4534-9a37-d34dff4afed3"
   },
   "source": [
    "1. Temporal Features: tpep_pickup_datetime"
   ]
  },
  {
   "cell_type": "markdown",
   "id": "7929ffd5-88f6-44f5-ba82-b819eacb0466",
   "metadata": {
    "id": "7929ffd5-88f6-44f5-ba82-b819eacb0466"
   },
   "source": [
    "2. Location Features: PULocationID"
   ]
  },
  {
   "cell_type": "markdown",
   "id": "f9b30fc6-3d6a-4424-aff0-98b9c7932ab7",
   "metadata": {
    "id": "f9b30fc6-3d6a-4424-aff0-98b9c7932ab7"
   },
   "source": [
    "3. Lagged Features : Past demand (number of pickups in previous hour at each location) <br>\n",
    "Lagged Features: Created by taking the value of a variable at a previous time point and including it as a feature in the model at the current time point. Helps to capture temporal dependencies and patterns in time series data"
   ]
  },
  {
   "cell_type": "markdown",
   "id": "b2c24d9d-8bd1-445b-b834-afac604f73e0",
   "metadata": {
    "id": "b2c24d9d-8bd1-445b-b834-afac604f73e0"
   },
   "source": [
    "#### 1. Cleaning your data"
   ]
  },
  {
   "cell_type": "code",
   "execution_count": null,
   "id": "c83e655c-36e3-48a3-a35a-37bdb534445a",
   "metadata": {},
   "outputs": [],
   "source": [
    "# Create new temporal features\n",
    "df['hour'] = df['tpep_pickup_datetime'].dt.hour\n",
    "df['day_of_week'] = df['tpep_pickup_datetime'].dt.dayofweek\n",
    "df['is_weekend'] = df['day_of_week'].apply(lambda x: 1 if x >= 5 else 0)\n",
    "\n",
    "# Add a 'day' feature for our temporal split later\n",
    "df['day'] = df['tpep_pickup_datetime'].dt.day"
   ]
  },
  {
   "cell_type": "code",
   "execution_count": null,
   "id": "33020d42-a92d-47b2-a684-4aa980a472c6",
   "metadata": {},
   "outputs": [],
   "source": [
    "# Check df after manipulation\n",
    "df"
   ]
  },
  {
   "cell_type": "code",
   "execution_count": null,
   "id": "45466651-eff6-4deb-95ad-14b561cc853b",
   "metadata": {
    "colab": {
     "base_uri": "https://localhost:8080/",
     "height": 458
    },
    "id": "45466651-eff6-4deb-95ad-14b561cc853b",
    "outputId": "96c3a2b0-5cc3-4b47-d174-497d151f51e3"
   },
   "outputs": [],
   "source": [
    "# Aggregate the data to create our target variable 'pickup_count'\n",
    "# We want to know the count of pickups for each location, at each day, at each hour.\n",
    "df_pickups = df.groupby(['PULocationID', 'day', 'hour', 'day_of_week', 'is_weekend']).size().reset_index(name='pickup_count')\n",
    "df_pickups.head()"
   ]
  },
  {
   "cell_type": "markdown",
   "id": "4a632cc0-69af-474c-bf2e-d6e91f8ad433",
   "metadata": {
    "id": "4a632cc0-69af-474c-bf2e-d6e91f8ad433"
   },
   "source": [
    "#### 2. Preparing for Modeling"
   ]
  },
  {
   "cell_type": "code",
   "execution_count": null,
   "id": "85c18b91-6cc6-40ee-ba72-dca8e14a066a",
   "metadata": {
    "id": "85c18b91-6cc6-40ee-ba72-dca8e14a066a"
   },
   "outputs": [],
   "source": [
    "features = ['PULocationID', 'hour', 'day_of_week', 'is_weekend']\n",
    "target = 'pickup_count'\n",
    "\n",
    "X = df_pickups[features + ['day']]\n",
    "y = df_pickups[target]"
   ]
  },
  {
   "cell_type": "code",
   "execution_count": null,
   "id": "022b203b-c7b2-4e67-9e25-f0ffdb8ddfae",
   "metadata": {},
   "outputs": [],
   "source": [
    "# Create a Temporal Split -  train on days 1-24 and test on days 25-31\n",
    "test_day_start = 25\n",
    "train_indices = X['day'] < test_day_start\n",
    "test_indices = X['day'] >= test_day_start\n"
   ]
  },
  {
   "cell_type": "code",
   "execution_count": null,
   "id": "95b4560f-a1a3-44b0-8547-70f175cf2c2e",
   "metadata": {},
   "outputs": [],
   "source": [
    "# Drop the 'day' column AFTER splitting, as it's not a predictive feature\n",
    "X_train = X[train_indices].drop(columns=['day'])\n",
    "y_train = y[train_indices]"
   ]
  },
  {
   "cell_type": "code",
   "execution_count": null,
   "id": "37dd175f-7a73-422a-a73d-20e024ac4ce5",
   "metadata": {},
   "outputs": [],
   "source": [
    "X_test = X[test_indices].drop(columns=['day'])\n",
    "y_test = y[test_indices]"
   ]
  },
  {
   "cell_type": "code",
   "execution_count": null,
   "id": "0c2cc507-1b04-4ae2-aba1-c6fe9c664d26",
   "metadata": {},
   "outputs": [],
   "source": [
    "print(f\"Training set shape: {X_train.shape}\")\n",
    "print(f\"Test set shape: {X_test.shape}\")"
   ]
  },
  {
   "cell_type": "markdown",
   "id": "42917b75-dde0-4edc-9296-a209dc733e24",
   "metadata": {
    "id": "42917b75-dde0-4edc-9296-a209dc733e24"
   },
   "source": [
    "#### 3. Train a Random Forest Regressor model"
   ]
  },
  {
   "cell_type": "code",
   "execution_count": null,
   "id": "d69f8ecb-13cd-45b6-ae98-2391b9c59c25",
   "metadata": {
    "colab": {
     "base_uri": "https://localhost:8080/"
    },
    "id": "d69f8ecb-13cd-45b6-ae98-2391b9c59c25",
    "outputId": "57c6b668-d8fb-4b55-e0e0-8894b9fc88c1"
   },
   "outputs": [],
   "source": [
    "print(\"\\nTraining Model 1 (Simple)...\")\n",
    "model = RandomForestRegressor(n_estimators=100, random_state=42, n_jobs=-1)\n",
    "model.fit(X_train, y_train)\n",
    "\n",
    "# Evaluate the Model \n",
    "y_pred = model.predict(X_test)\n",
    "\n",
    "mse = mean_squared_error(y_test, y_pred)\n",
    "mae = mean_absolute_error(y_test, y_pred)\n",
    "r2 = r2_score(y_test, y_pred)\n",
    "\n",
    "print(\"\\nModel 1 Evaluation \")\n",
    "print(f\"Mean Squared Error (MSE): {mse:.2f}\")\n",
    "print(f\"Mean Absolute Error (MAE): {mae:.2f}\")\n",
    "print(f\"R-squared (R2) Score: {r2:.3f}\")"
   ]
  },
  {
   "cell_type": "markdown",
   "id": "b3255e62-0146-40f3-bcee-6b28585c9d14",
   "metadata": {
    "id": "b3255e62-0146-40f3-bcee-6b28585c9d14"
   },
   "source": [
    "MSE: This suggests that while your average error was low, you had a few predictions that were off by a larger amount, which is totally normal <br>\n",
    "MAE: On average, the prediction is off by x pickups compared to the actual number of pickups. <br>\n",
    "R2: Model explains around x% of variability in the pickup demand. Strong fit of model. <br>"
   ]
  },
  {
   "cell_type": "markdown",
   "id": "ed1debcc-6fb6-4878-b85b-c0666d5cfe61",
   "metadata": {},
   "source": [
    "Note: The above is a simplified version. The better way to improve this is to use a dynamic, lagged feature (i.e., the pickup count at this exact location, 24 hours ago. Simply put, it is able to capture momentum and real-world events and is a far more powerful model. But we will not be implementing this in the notebook."
   ]
  },
  {
   "cell_type": "markdown",
   "id": "be7f25c0-4cd7-4fec-8151-c4b98d105929",
   "metadata": {},
   "source": [
    "Note 2: This is where you will spend time fine tuning your models etc."
   ]
  },
  {
   "cell_type": "markdown",
   "id": "4ed488c1-52af-44f0-b3ac-0511dae71860",
   "metadata": {
    "id": "4ed488c1-52af-44f0-b3ac-0511dae71860"
   },
   "source": [
    "#### 4. Adding Predictions to dataset for visualization"
   ]
  },
  {
   "cell_type": "code",
   "execution_count": null,
   "id": "9060cca1-8f12-4fc2-9584-9874524ac2fc",
   "metadata": {
    "id": "9060cca1-8f12-4fc2-9584-9874524ac2fc"
   },
   "outputs": [],
   "source": [
    "X_test_with_predictions = X_test.copy()\n",
    "X_test_with_predictions['actual_pickup_count'] = y_test\n",
    "X_test_with_predictions['predicted_pickup_count'] = y_pred"
   ]
  },
  {
   "cell_type": "code",
   "execution_count": null,
   "id": "7c252178-6cbc-44e9-8fa1-c6e727b2a918",
   "metadata": {},
   "outputs": [],
   "source": [
    "# Aggregate the results by location to get the average counts for mapping\n",
    "df_map_data = X_test_with_predictions.groupby('PULocationID')[['actual_pickup_count', 'predicted_pickup_count']].mean().reset_index()"
   ]
  },
  {
   "cell_type": "code",
   "execution_count": null,
   "id": "257498ae-25a1-4d84-925c-6f409eea9fec",
   "metadata": {},
   "outputs": [],
   "source": [
    "# Let's also create an error column to see where the model was most wrong\n",
    "df_map_data['prediction_error'] = df_map_data['actual_pickup_count'] - df_map_data['predicted_pickup_count']\n",
    "\n",
    "print(\"Aggregated data for mapping (df_map_data):\")\n",
    "df_map_data.head()"
   ]
  },
  {
   "cell_type": "markdown",
   "id": "a7f770a0-5e1f-44b5-b876-88f322bb50af",
   "metadata": {
    "id": "a7f770a0-5e1f-44b5-b876-88f322bb50af"
   },
   "source": [
    "Combining with latlon information found here: https://data.cityofnewyork.us/Transportation/NYC-Taxi-Zones/d3c5-ddgc"
   ]
  },
  {
   "cell_type": "code",
   "execution_count": null,
   "id": "o-vrAQ8Fxhqw",
   "metadata": {
    "id": "o-vrAQ8Fxhqw"
   },
   "outputs": [],
   "source": [
    "file_path = 'nyc_taxi_zones.geojson'"
   ]
  },
  {
   "cell_type": "code",
   "execution_count": null,
   "id": "b5c44d71-3b84-4e45-baa0-d159c541da44",
   "metadata": {
    "id": "b5c44d71-3b84-4e45-baa0-d159c541da44"
   },
   "outputs": [],
   "source": [
    "taxi_zones = "
   ]
  },
  {
   "cell_type": "code",
   "execution_count": null,
   "id": "IFhCTNIhxuBV",
   "metadata": {
    "colab": {
     "base_uri": "https://localhost:8080/",
     "height": 206
    },
    "id": "IFhCTNIhxuBV",
    "outputId": "bc974097-5c3b-48d7-83a5-1e845e74bfad"
   },
   "outputs": [],
   "source": []
  },
  {
   "cell_type": "code",
   "execution_count": null,
   "id": "f0072f0a-e4fe-4c86-88f5-04bc760494db",
   "metadata": {},
   "outputs": [],
   "source": []
  },
  {
   "cell_type": "code",
   "execution_count": null,
   "id": "HDCJOcrGyYJj",
   "metadata": {
    "id": "HDCJOcrGyYJj"
   },
   "outputs": [],
   "source": [
    "# If you are more comfortable you can do this in GIS as well"
   ]
  },
  {
   "cell_type": "code",
   "execution_count": null,
   "id": "1bb37335-ca70-4216-b466-ae4ea9e3259a",
   "metadata": {},
   "outputs": [],
   "source": [
    "# Check the Map projection. original CRS (it should be EPSG:4326)\n",
    "print(f\"Original CRS: {taxi_zones.crs}\")"
   ]
  },
  {
   "cell_type": "code",
   "execution_count": null,
   "id": "051ac4e1-8dd5-479d-8df0-6500f6823e6c",
   "metadata": {},
   "outputs": [],
   "source": [
    "# a. Project to a projected CRS (EPSG:32618)\n",
    "taxi_zones_proj = taxi_zones.to_crs(epsg=32618)"
   ]
  },
  {
   "cell_type": "code",
   "execution_count": null,
   "id": "3c53c711-05a7-4667-9bea-dc447d861682",
   "metadata": {},
   "outputs": [],
   "source": [
    "# b. Calculate the centroid on the projected data\n",
    "taxi_zones_proj['centroid'] = taxi_zones_proj.geometry.centroid"
   ]
  },
  {
   "cell_type": "code",
   "execution_count": null,
   "id": "168a3255-b0d1-4853-8936-f0c3de9ad9bb",
   "metadata": {},
   "outputs": [],
   "source": [
    "# c. Project the new centroid column back to Lat/Lon (EPSG:4326)\n",
    "taxi_zones['centroid_latlon'] = taxi_zones_proj['centroid'].to_crs(epsg=4326)"
   ]
  },
  {
   "cell_type": "code",
   "execution_count": null,
   "id": "1f0c09db-5b1d-4db9-93d4-ca1ce48c9e5e",
   "metadata": {},
   "outputs": [],
   "source": [
    "# d. Extract the correct latitude and longitude\n",
    "taxi_zones['latitude'] = taxi_zones['centroid_latlon'].y\n",
    "taxi_zones['longitude'] = taxi_zones['centroid_latlon'].x"
   ]
  },
  {
   "cell_type": "code",
   "execution_count": null,
   "id": "FdqgIBfAyK4_",
   "metadata": {
    "id": "FdqgIBfAyK4_"
   },
   "outputs": [],
   "source": [
    "print(\"\\nTaxi zones with centroids:\")\n",
    "print(taxi_zones[['location_id', 'zone', 'latitude', 'longitude']].head())"
   ]
  },
  {
   "cell_type": "code",
   "execution_count": null,
   "id": "50be5252-5a78-4df0-9b7e-2124f81b9c6e",
   "metadata": {},
   "outputs": [],
   "source": [
    "# Create a clean lookup table for coordinates\n",
    "taxi_zone_coords = taxi_zones[['location_id', 'latitude', 'longitude']].copy()"
   ]
  },
  {
   "cell_type": "code",
   "execution_count": null,
   "id": "b13d8c61-4eb5-4a60-8dfd-39a9ff44d96c",
   "metadata": {},
   "outputs": [],
   "source": [
    "taxi_zone_coords.loc[:, 'location_id'] = taxi_zone_coords['location_id'].astype('int32')"
   ]
  },
  {
   "cell_type": "code",
   "execution_count": null,
   "id": "2a046ec1-b1e2-4484-b629-757a3b7be6e0",
   "metadata": {},
   "outputs": [],
   "source": [
    "print(\"\\nCoordinate lookup table (taxi_zone_coords):\")\n",
    "print(taxi_zone_coords.info())"
   ]
  },
  {
   "cell_type": "code",
   "execution_count": null,
   "id": "22d464eb-9278-482c-b264-80ebbdc905ea",
   "metadata": {},
   "outputs": [],
   "source": []
  },
  {
   "cell_type": "code",
   "execution_count": null,
   "id": "ee7a99da-62cb-4f79-ab97-4794ad499638",
   "metadata": {},
   "outputs": [],
   "source": [
    "# Create a Geodataframe\n",
    "taxi_gdf['geometry'] = [Point(xy) for xy in zip(taxi_gdf['longitude'], taxi_gdf['latitude'])]"
   ]
  },
  {
   "cell_type": "code",
   "execution_count": null,
   "id": "fe9ded17-d179-4caa-ae3b-97d7c8a6b46a",
   "metadata": {},
   "outputs": [],
   "source": [
    "taxi_gdf_final = gpd.GeoDataFrame(taxi_gdf, geometry='geometry')"
   ]
  },
  {
   "cell_type": "code",
   "execution_count": null,
   "id": "0c3ab454-37af-4501-86a0-2f7dae61a67d",
   "metadata": {},
   "outputs": [],
   "source": [
    "# Set the CRS to EPSG:4326 (WGS 84 Lat/Lon)\n",
    "taxi_gdf_final = taxi_gdf_final.set_crs(epsg=4326)"
   ]
  },
  {
   "cell_type": "code",
   "execution_count": null,
   "id": "63b7b86b-5474-4a88-8c52-128461414c39",
   "metadata": {},
   "outputs": [],
   "source": [
    "# Drop any locations that didn't have a matching zone\n",
    "taxi_gdf_final = taxi_gdf_final.dropna(subset=['geometry'])"
   ]
  },
  {
   "cell_type": "code",
   "execution_count": null,
   "id": "e5b06fab-9e3b-4329-b8f7-2f833f8fa15c",
   "metadata": {},
   "outputs": [],
   "source": [
    "print(\"\\nFinal GeoDataFrame ready for export:\")\n",
    "print(taxi_gdf_final.head())"
   ]
  },
  {
   "cell_type": "code",
   "execution_count": null,
   "id": "7265c1c0-6160-4574-9b7b-e23c062726e0",
   "metadata": {},
   "outputs": [],
   "source": [
    "# Export to GeoJSON \n",
    "output_filename = 'taxi_predictions_corrected.geojson'\n",
    "taxi_gdf_final.to_file(output_filename, driver='GeoJSON')"
   ]
  },
  {
   "cell_type": "markdown",
   "id": "c96fa096-6622-4fd4-b189-733c74c4245e",
   "metadata": {},
   "source": [
    "You can now visualize in QGIS/ARGIS OR CARTO"
   ]
  }
 ],
 "metadata": {
  "colab": {
   "provenance": []
  },
  "kernelspec": {
   "display_name": "Python 3 (ipykernel)",
   "language": "python",
   "name": "python3"
  },
  "language_info": {
   "codemirror_mode": {
    "name": "ipython",
    "version": 3
   },
   "file_extension": ".py",
   "mimetype": "text/x-python",
   "name": "python",
   "nbconvert_exporter": "python",
   "pygments_lexer": "ipython3",
   "version": "3.13.5"
  }
 },
 "nbformat": 4,
 "nbformat_minor": 5
}
